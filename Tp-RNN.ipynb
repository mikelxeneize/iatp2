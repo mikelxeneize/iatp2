{
 "cells": [
  {
   "cell_type": "code",
   "execution_count": 1,
   "metadata": {},
   "outputs": [
    {
     "name": "stderr",
     "output_type": "stream",
     "text": [
      "2023-11-28 17:00:43.682161: E tensorflow/compiler/xla/stream_executor/cuda/cuda_dnn.cc:9342] Unable to register cuDNN factory: Attempting to register factory for plugin cuDNN when one has already been registered\n",
      "2023-11-28 17:00:43.682215: E tensorflow/compiler/xla/stream_executor/cuda/cuda_fft.cc:609] Unable to register cuFFT factory: Attempting to register factory for plugin cuFFT when one has already been registered\n",
      "2023-11-28 17:00:43.682252: E tensorflow/compiler/xla/stream_executor/cuda/cuda_blas.cc:1518] Unable to register cuBLAS factory: Attempting to register factory for plugin cuBLAS when one has already been registered\n",
      "2023-11-28 17:00:43.690889: I tensorflow/core/platform/cpu_feature_guard.cc:182] This TensorFlow binary is optimized to use available CPU instructions in performance-critical operations.\n",
      "To enable the following instructions: AVX2 FMA, in other operations, rebuild TensorFlow with the appropriate compiler flags.\n"
     ]
    },
    {
     "name": "stdout",
     "output_type": "stream",
     "text": [
      "Num GPUs Available:  1\n"
     ]
    },
    {
     "name": "stderr",
     "output_type": "stream",
     "text": [
      "2023-11-28 17:00:45.443254: I tensorflow/compiler/xla/stream_executor/cuda/cuda_gpu_executor.cc:894] successful NUMA node read from SysFS had negative value (-1), but there must be at least one NUMA node, so returning NUMA node zero. See more at https://github.com/torvalds/linux/blob/v6.0/Documentation/ABI/testing/sysfs-bus-pci#L344-L355\n",
      "2023-11-28 17:00:45.447994: I tensorflow/compiler/xla/stream_executor/cuda/cuda_gpu_executor.cc:894] successful NUMA node read from SysFS had negative value (-1), but there must be at least one NUMA node, so returning NUMA node zero. See more at https://github.com/torvalds/linux/blob/v6.0/Documentation/ABI/testing/sysfs-bus-pci#L344-L355\n",
      "2023-11-28 17:00:45.448158: I tensorflow/compiler/xla/stream_executor/cuda/cuda_gpu_executor.cc:894] successful NUMA node read from SysFS had negative value (-1), but there must be at least one NUMA node, so returning NUMA node zero. See more at https://github.com/torvalds/linux/blob/v6.0/Documentation/ABI/testing/sysfs-bus-pci#L344-L355\n"
     ]
    }
   ],
   "source": [
    "#importacion de las bibliotecas de Keras y librerias de Keras\n",
    "\n",
    "import tensorflow as tf\n",
    "print(\"Num GPUs Available: \", len(tf.config.list_physical_devices('GPU')))\n",
    "\n",
    "import numpy as np\n",
    "import matplotlib.pyplot as plt\n",
    "import pandas as pd\n"
   ]
  },
  {
   "cell_type": "code",
   "execution_count": 38,
   "metadata": {},
   "outputs": [
    {
     "name": "stdout",
     "output_type": "stream",
     "text": [
      "longitudArchivoTrain:  26366\n"
     ]
    }
   ],
   "source": [
    "# importacion del set de entrenamiento\n",
    "horas_para_LSTM = 120 #cantidad de dias que se toman para predecir el siguiente/horas hacia atras\n",
    "dataset_train_sinFiltrar = pd.read_csv('Weather_Valencia_Train_2015-2017.csv')\n",
    "longitudArchivoTrain = len(dataset_train_sinFiltrar)\n",
    "print(\"longitudArchivoTrain: \", longitudArchivoTrain)"
   ]
  },
  {
   "cell_type": "code",
   "execution_count": 39,
   "metadata": {},
   "outputs": [
    {
     "name": "stdout",
     "output_type": "stream",
     "text": [
      "          temp\n",
      "0      270.475\n",
      "1      270.475\n",
      "2      269.686\n",
      "3      269.686\n",
      "4      269.686\n",
      "...        ...\n",
      "26361  290.150\n",
      "26362  290.150\n",
      "26363  289.150\n",
      "26364  290.150\n",
      "26365  289.150\n",
      "\n",
      "[26366 rows x 1 columns]\n"
     ]
    }
   ],
   "source": [
    "#filtracion de las columnas que me interesan\n",
    "dataset_train =dataset_train_sinFiltrar.iloc[:, 2:3]\n",
    "print(dataset_train)\n",
    "training_set = dataset_train.values"
   ]
  },
  {
   "cell_type": "code",
   "execution_count": 40,
   "metadata": {},
   "outputs": [],
   "source": [
    "# Escalado de caracteristicas\n",
    "\n",
    "from sklearn.preprocessing import MinMaxScaler\n",
    "sc = MinMaxScaler(feature_range = (0, 1)) # normalizacion de los datos\n",
    "training_set_scaled = sc.fit_transform(training_set)\n"
   ]
  },
  {
   "cell_type": "code",
   "execution_count": 43,
   "metadata": {},
   "outputs": [],
   "source": [
    "#Creación de una estructura de datos con 120 (equivale a 5 dias previos) pasos de tiempo y 1 salida\n",
    "X_train = []\n",
    "y_train = []\n",
    "for i in range(horas_para_LSTM, longitudArchivoTrain): #lee a partir  de la fila 120 hasta la cantidad de filas del dataset (26366)\n",
    "    X_train.append(training_set_scaled[i-horas_para_LSTM:i, 0])  #para mi aca no va 0 \n",
    "    y_train.append(training_set_scaled[i, 0]) #para mi aca no va 0\n",
    "X_train, y_train = np.array(X_train), np.array(y_train) #los transforma en np.array"
   ]
  },
  {
   "cell_type": "code",
   "execution_count": 44,
   "metadata": {},
   "outputs": [],
   "source": [
    "#Remodelación\n",
    "\n",
    "X_train = np.reshape(X_train, (X_train.shape[0], X_train.shape[1], 1)) ##aca para meterle mas parametros al tensor\n"
   ]
  },
  {
   "cell_type": "code",
   "execution_count": 45,
   "metadata": {},
   "outputs": [],
   "source": [
    "#Importación de las librerías y paquetes Keras\n",
    "\n",
    "from keras.models import Sequential\n",
    "from keras.layers import Dense\n",
    "from keras.layers import LSTM\n",
    "from keras.layers import Dropout\n"
   ]
  },
  {
   "cell_type": "code",
   "execution_count": 46,
   "metadata": {},
   "outputs": [],
   "source": [
    "#Inicializando el RNN\n",
    "\n",
    "regressor = Sequential()\n",
    "\n",
    "#Añadiendo la primera capa de LSTM y algo de regularización de la deserción\n",
    "\n",
    "regressor.add(LSTM(units = 50, return_sequences = True, input_shape = (X_train.shape[1], 1)))\n",
    "regressor.add(Dropout(0.2))\n",
    "\n",
    "#Añadiendo la segunda capa de LSTM y algo de regularización de la deserción\n",
    "\n",
    "regressor.add(LSTM(units = 50, return_sequences = True))\n",
    "regressor.add(Dropout(0.2))\n",
    "\n",
    "#Añadiendo la tercera capa de LSTM y algo de regularización de la deserción\n",
    "\n",
    "regressor.add(LSTM(units = 50, return_sequences = True))\n",
    "regressor.add(Dropout(0.2))\n",
    "#Añadiendo la cuarta capa de LSTM y algo de regularización de la deserción\n",
    "regressor.add(LSTM(units = 50))\n",
    "regressor.add(Dropout(0.2))\n",
    "\n",
    "#Añadiendo la capa de salida\n",
    "\n",
    "regressor.add(Dense(units = 1))"
   ]
  },
  {
   "cell_type": "code",
   "execution_count": 49,
   "metadata": {},
   "outputs": [
    {
     "name": "stdout",
     "output_type": "stream",
     "text": [
      "Epoch 1/2\n",
      "821/821 [==============================] - 22s 21ms/step - loss: 0.0023\n",
      "Epoch 2/2\n",
      "821/821 [==============================] - 17s 21ms/step - loss: 0.0016\n"
     ]
    },
    {
     "data": {
      "text/plain": [
       "<keras.src.callbacks.History at 0x7fd59c515db0>"
      ]
     },
     "execution_count": 49,
     "metadata": {},
     "output_type": "execute_result"
    }
   ],
   "source": [
    "#Compilación del RNN\n",
    "\n",
    "regressor.compile(optimizer = 'adam', loss = 'mean_squared_error')\n",
    "\n",
    "#Ajustar el RNN al set de entrenamiento\n",
    "epocas = 2\n",
    "regressor.fit(X_train, y_train, epochs = epocas, batch_size = 32)"
   ]
  },
  {
   "cell_type": "code",
   "execution_count": 62,
   "metadata": {},
   "outputs": [
    {
     "name": "stdout",
     "output_type": "stream",
     "text": [
      "271/271 [==============================] - 2s 8ms/step\n"
     ]
    }
   ],
   "source": [
    "#Obtención del clima\n",
    "horas_a_predecir = 50 #cantidad de horas a predecir\n",
    "dataset_test = pd.read_csv('Weather_Valencia_Test_2018.csv')\n",
    "real_weather_temp = dataset_test.iloc[:, 2:3].values\n",
    "\n",
    "#Obtención del precio de las acciones previsto para 2017\n",
    "\n",
    "dataset_total = pd.concat((dataset_train['temp'], dataset_test['temp']), axis = 0) #concatena los datos de entrenamiento y los de test\n",
    "inputs = dataset_total[len(dataset_total) - len(dataset_test) - horas_para_LSTM:].values #toma los ultimos 120 HORAS del 2016\n",
    "inputs = inputs.reshape(-1,1) #transforma los datos en un array de 1 columna\n",
    "inputs = sc.transform(inputs) #normaliza los datos\n",
    "X_test = [] #crea un array vacio\n",
    "for i in range(120, 8780): #toma los ultimos 120 dias del 2016 8780\n",
    "    X_test.append(inputs[i-horas_para_LSTM:i, 0])\n",
    "\n",
    "X_test = np.array(X_test)\n",
    "X_test = np.reshape(X_test, (X_test.shape[0], X_test.shape[1], 1))\n",
    "#print(X_test)\n",
    "#print(X_test.shape)\n",
    "predicted_weather_temp = regressor.predict(X_test)\n",
    "predicted_weather_temp = sc.inverse_transform(predicted_weather_temp)\n"
   ]
  },
  {
   "cell_type": "code",
   "execution_count": 63,
   "metadata": {},
   "outputs": [
    {
     "name": "stdout",
     "output_type": "stream",
     "text": [
      "[[[0.36199389]]\n",
      "\n",
      " [[0.38562374]]\n",
      "\n",
      " [[0.38562374]]\n",
      "\n",
      " [[0.4092536 ]]\n",
      "\n",
      " [[0.4092536 ]]\n",
      "\n",
      " [[0.4092536 ]]\n",
      "\n",
      " [[0.4092536 ]]\n",
      "\n",
      " [[0.43288346]]\n",
      "\n",
      " [[0.43288346]]\n",
      "\n",
      " [[0.36199389]]\n",
      "\n",
      " [[0.43288346]]\n",
      "\n",
      " [[0.45651331]]\n",
      "\n",
      " [[0.45651331]]\n",
      "\n",
      " [[0.48014317]]\n",
      "\n",
      " [[0.50377302]]\n",
      "\n",
      " [[0.50377302]]\n",
      "\n",
      " [[0.50377302]]\n",
      "\n",
      " [[0.48014317]]\n",
      "\n",
      " [[0.48014317]]\n",
      "\n",
      " [[0.43288346]]\n",
      "\n",
      " [[0.43288346]]\n",
      "\n",
      " [[0.43288346]]\n",
      "\n",
      " [[0.38562374]]\n",
      "\n",
      " [[0.38562374]]\n",
      "\n",
      " [[0.38562374]]\n",
      "\n",
      " [[0.38562374]]\n",
      "\n",
      " [[0.38562374]]\n",
      "\n",
      " [[0.38562374]]\n",
      "\n",
      " [[0.38562374]]\n",
      "\n",
      " [[0.36199389]]\n",
      "\n",
      " [[0.36199389]]\n",
      "\n",
      " [[0.36199389]]\n",
      "\n",
      " [[0.36199389]]\n",
      "\n",
      " [[0.36199389]]\n",
      "\n",
      " [[0.4092536 ]]\n",
      "\n",
      " [[0.43288346]]\n",
      "\n",
      " [[0.50377302]]\n",
      "\n",
      " [[0.52740288]]\n",
      "\n",
      " [[0.55103274]]\n",
      "\n",
      " [[0.57466259]]\n",
      "\n",
      " [[0.59829245]]\n",
      "\n",
      " [[0.57466259]]\n",
      "\n",
      " [[0.57466259]]\n",
      "\n",
      " [[0.50377302]]\n",
      "\n",
      " [[0.48014317]]\n",
      "\n",
      " [[0.50377302]]\n",
      "\n",
      " [[0.43288346]]\n",
      "\n",
      " [[0.45651331]]\n",
      "\n",
      " [[0.48014317]]\n",
      "\n",
      " [[0.4092536 ]]\n",
      "\n",
      " [[0.38562374]]\n",
      "\n",
      " [[0.33836403]]\n",
      "\n",
      " [[0.38562374]]\n",
      "\n",
      " [[0.36199389]]\n",
      "\n",
      " [[0.33836403]]\n",
      "\n",
      " [[0.29110432]]\n",
      "\n",
      " [[0.29110432]]\n",
      "\n",
      " [[0.29110432]]\n",
      "\n",
      " [[0.4092536 ]]\n",
      "\n",
      " [[0.48014317]]\n",
      "\n",
      " [[0.52740288]]\n",
      "\n",
      " [[0.55103274]]\n",
      "\n",
      " [[0.57466259]]\n",
      "\n",
      " [[0.6219223 ]]\n",
      "\n",
      " [[0.6219223 ]]\n",
      "\n",
      " [[0.59829245]]\n",
      "\n",
      " [[0.55103274]]\n",
      "\n",
      " [[0.52740288]]\n",
      "\n",
      " [[0.48014317]]\n",
      "\n",
      " [[0.45651331]]\n",
      "\n",
      " [[0.43288346]]\n",
      "\n",
      " [[0.38562374]]\n",
      "\n",
      " [[0.38562374]]\n",
      "\n",
      " [[0.4092536 ]]\n",
      "\n",
      " [[0.43288346]]\n",
      "\n",
      " [[0.4092536 ]]\n",
      "\n",
      " [[0.45651331]]\n",
      "\n",
      " [[0.43288346]]\n",
      "\n",
      " [[0.48014317]]\n",
      "\n",
      " [[0.43288346]]\n",
      "\n",
      " [[0.38562374]]\n",
      "\n",
      " [[0.37999984]]\n",
      "\n",
      " [[0.48014317]]\n",
      "\n",
      " [[0.52740288]]\n",
      "\n",
      " [[0.57466259]]\n",
      "\n",
      " [[0.59829245]]\n",
      "\n",
      " [[0.6219223 ]]\n",
      "\n",
      " [[0.6219223 ]]\n",
      "\n",
      " [[0.6219223 ]]\n",
      "\n",
      " [[0.6219223 ]]\n",
      "\n",
      " [[0.55103274]]\n",
      "\n",
      " [[0.50377302]]\n",
      "\n",
      " [[0.48014317]]\n",
      "\n",
      " [[0.45651331]]\n",
      "\n",
      " [[0.4092536 ]]\n",
      "\n",
      " [[0.4092536 ]]\n",
      "\n",
      " [[0.36199389]]\n",
      "\n",
      " [[0.36199389]]\n",
      "\n",
      " [[0.33836403]]\n",
      "\n",
      " [[0.31473418]]\n",
      "\n",
      " [[0.31473418]]\n",
      "\n",
      " [[0.29110432]]\n",
      "\n",
      " [[0.26747446]]\n",
      "\n",
      " [[0.29110432]]\n",
      "\n",
      " [[0.26747446]]\n",
      "\n",
      " [[0.26747446]]\n",
      "\n",
      " [[0.29110432]]\n",
      "\n",
      " [[0.4092536 ]]\n",
      "\n",
      " [[0.50377302]]\n",
      "\n",
      " [[0.55103274]]\n",
      "\n",
      " [[0.57466259]]\n",
      "\n",
      " [[0.47232169]]\n",
      "\n",
      " [[0.55103274]]\n",
      "\n",
      " [[0.52740288]]\n",
      "\n",
      " [[0.52740288]]\n",
      "\n",
      " [[0.50377302]]\n",
      "\n",
      " [[0.50377302]]\n",
      "\n",
      " [[0.48014317]]\n",
      "\n",
      " [[0.50377302]]\n",
      "\n",
      " [[0.48014317]]]\n",
      "(120, 1, 1)\n"
     ]
    },
    {
     "ename": "TypeError",
     "evalue": "in user code:\n\n    File \"/home/mikel/Documents/Facultad/IA/IA/lib/python3.10/site-packages/keras/src/engine/training.py\", line 2416, in predict_function  *\n        return step_function(self, iterator)\n    File \"/home/mikel/Documents/Facultad/IA/IA/lib/python3.10/site-packages/keras/src/engine/training.py\", line 2401, in step_function  **\n        outputs = model.distribute_strategy.run(run_step, args=(data,))\n    File \"/home/mikel/Documents/Facultad/IA/IA/lib/python3.10/site-packages/keras/src/engine/training.py\", line 2389, in run_step  **\n        outputs = model.predict_step(data)\n    File \"/home/mikel/Documents/Facultad/IA/IA/lib/python3.10/site-packages/keras/src/engine/training.py\", line 2357, in predict_step\n        return self(x, training=False)\n    File \"/home/mikel/Documents/Facultad/IA/IA/lib/python3.10/site-packages/keras/src/utils/traceback_utils.py\", line 70, in error_handler\n        raise e.with_traceback(filtered_tb) from None\n    File \"/home/mikel/Documents/Facultad/IA/IA/lib/python3.10/site-packages/keras/src/layers/rnn/lstm.py\", line 616, in call\n        timesteps = input_shape[0] if self.time_major else input_shape[1]\n\n    TypeError: Exception encountered when calling layer 'lstm_8' (type LSTM).\n    \n    'NoneType' object is not subscriptable\n    \n    Call arguments received by layer 'lstm_8' (type LSTM):\n      • inputs=tf.Tensor(shape=<unknown>, dtype=float32)\n      • mask=None\n      • training=False\n      • initial_state=None\n",
     "output_type": "error",
     "traceback": [
      "\u001b[0;31m---------------------------------------------------------------------------\u001b[0m",
      "\u001b[0;31mTypeError\u001b[0m                                 Traceback (most recent call last)",
      "\u001b[1;32m/home/mikel/Documents/Facultad/IA/iatp2/Tp-RNN.ipynb Cell 11\u001b[0m line \u001b[0;36m2\n\u001b[1;32m     <a href='vscode-notebook-cell:/home/mikel/Documents/Facultad/IA/iatp2/Tp-RNN.ipynb#X14sZmlsZQ%3D%3D?line=24'>25</a>\u001b[0m \u001b[39mfor\u001b[39;00m i \u001b[39min\u001b[39;00m \u001b[39mrange\u001b[39m(\u001b[39m120\u001b[39m, \u001b[39m8780\u001b[39m): \u001b[39m#toma los ultimos 120 dias del 2016 8780    \u001b[39;00m\n\u001b[1;32m     <a href='vscode-notebook-cell:/home/mikel/Documents/Facultad/IA/iatp2/Tp-RNN.ipynb#X14sZmlsZQ%3D%3D?line=25'>26</a>\u001b[0m     aux\u001b[39m=\u001b[39minputs_arreglados[i\u001b[39m-\u001b[39mhoras_para_LSTM:i, \u001b[39m0\u001b[39m]\n\u001b[0;32m---> <a href='vscode-notebook-cell:/home/mikel/Documents/Facultad/IA/iatp2/Tp-RNN.ipynb#X14sZmlsZQ%3D%3D?line=26'>27</a>\u001b[0m     predicted_weather_temp_artificial \u001b[39m=\u001b[39m regressor\u001b[39m.\u001b[39;49mpredict(aux)\n\u001b[1;32m     <a href='vscode-notebook-cell:/home/mikel/Documents/Facultad/IA/iatp2/Tp-RNN.ipynb#X14sZmlsZQ%3D%3D?line=27'>28</a>\u001b[0m     inputs_arreglados \u001b[39m=\u001b[39m np\u001b[39m.\u001b[39mappend(inputs_arreglados, predicted_weather_temp_artificial)    \n\u001b[1;32m     <a href='vscode-notebook-cell:/home/mikel/Documents/Facultad/IA/iatp2/Tp-RNN.ipynb#X14sZmlsZQ%3D%3D?line=28'>29</a>\u001b[0m     X_test_artificial\u001b[39m.\u001b[39mappend(inputs)\n",
      "File \u001b[0;32m~/Documents/Facultad/IA/IA/lib/python3.10/site-packages/keras/src/utils/traceback_utils.py:70\u001b[0m, in \u001b[0;36mfilter_traceback.<locals>.error_handler\u001b[0;34m(*args, **kwargs)\u001b[0m\n\u001b[1;32m     67\u001b[0m     filtered_tb \u001b[39m=\u001b[39m _process_traceback_frames(e\u001b[39m.\u001b[39m__traceback__)\n\u001b[1;32m     68\u001b[0m     \u001b[39m# To get the full stack trace, call:\u001b[39;00m\n\u001b[1;32m     69\u001b[0m     \u001b[39m# `tf.debugging.disable_traceback_filtering()`\u001b[39;00m\n\u001b[0;32m---> 70\u001b[0m     \u001b[39mraise\u001b[39;00m e\u001b[39m.\u001b[39mwith_traceback(filtered_tb) \u001b[39mfrom\u001b[39;00m \u001b[39mNone\u001b[39;00m\n\u001b[1;32m     71\u001b[0m \u001b[39mfinally\u001b[39;00m:\n\u001b[1;32m     72\u001b[0m     \u001b[39mdel\u001b[39;00m filtered_tb\n",
      "File \u001b[0;32m/tmp/__autograph_generated_filempy928k4.py:15\u001b[0m, in \u001b[0;36mouter_factory.<locals>.inner_factory.<locals>.tf__predict_function\u001b[0;34m(iterator)\u001b[0m\n\u001b[1;32m     13\u001b[0m \u001b[39mtry\u001b[39;00m:\n\u001b[1;32m     14\u001b[0m     do_return \u001b[39m=\u001b[39m \u001b[39mTrue\u001b[39;00m\n\u001b[0;32m---> 15\u001b[0m     retval_ \u001b[39m=\u001b[39m ag__\u001b[39m.\u001b[39mconverted_call(ag__\u001b[39m.\u001b[39mld(step_function), (ag__\u001b[39m.\u001b[39mld(\u001b[39mself\u001b[39m), ag__\u001b[39m.\u001b[39mld(iterator)), \u001b[39mNone\u001b[39;00m, fscope)\n\u001b[1;32m     16\u001b[0m \u001b[39mexcept\u001b[39;00m:\n\u001b[1;32m     17\u001b[0m     do_return \u001b[39m=\u001b[39m \u001b[39mFalse\u001b[39;00m\n",
      "\u001b[0;31mTypeError\u001b[0m: in user code:\n\n    File \"/home/mikel/Documents/Facultad/IA/IA/lib/python3.10/site-packages/keras/src/engine/training.py\", line 2416, in predict_function  *\n        return step_function(self, iterator)\n    File \"/home/mikel/Documents/Facultad/IA/IA/lib/python3.10/site-packages/keras/src/engine/training.py\", line 2401, in step_function  **\n        outputs = model.distribute_strategy.run(run_step, args=(data,))\n    File \"/home/mikel/Documents/Facultad/IA/IA/lib/python3.10/site-packages/keras/src/engine/training.py\", line 2389, in run_step  **\n        outputs = model.predict_step(data)\n    File \"/home/mikel/Documents/Facultad/IA/IA/lib/python3.10/site-packages/keras/src/engine/training.py\", line 2357, in predict_step\n        return self(x, training=False)\n    File \"/home/mikel/Documents/Facultad/IA/IA/lib/python3.10/site-packages/keras/src/utils/traceback_utils.py\", line 70, in error_handler\n        raise e.with_traceback(filtered_tb) from None\n    File \"/home/mikel/Documents/Facultad/IA/IA/lib/python3.10/site-packages/keras/src/layers/rnn/lstm.py\", line 616, in call\n        timesteps = input_shape[0] if self.time_major else input_shape[1]\n\n    TypeError: Exception encountered when calling layer 'lstm_8' (type LSTM).\n    \n    'NoneType' object is not subscriptable\n    \n    Call arguments received by layer 'lstm_8' (type LSTM):\n      • inputs=tf.Tensor(shape=<unknown>, dtype=float32)\n      • mask=None\n      • training=False\n      • initial_state=None\n"
     ]
    }
   ],
   "source": [
    "#Obtención del clima TODO ARTIFICIAL\n",
    "\n",
    "horas_a_predecir = 50 #cantidad de horas a predecir\n",
    "\n",
    "#Obtención del precio de las acciones previsto para 2017\n",
    "\n",
    "dataset_total = dataset_train['temp'] #concatena los datos de entrenamiento y los de test\n",
    "inputs = dataset_total[len(dataset_total) - horas_para_LSTM:].values #toma los ultimos 120 HORAS del 2016\n",
    "inputs = inputs.reshape(-1,1) #transforma los datos en un array de 1 columna\n",
    "#print(inputs)\n",
    "\n",
    "inputs = sc.transform(inputs) #normaliza los datos\n",
    "\n",
    "inputs_arreglados = np.array(inputs)\n",
    "inputs_arreglados = np.reshape(inputs, (inputs.shape[0], inputs.shape[1], 1))\n",
    "\n",
    "#array_transformado = np.transpose(inputs_arreglados, (1, 0))  # (1, 120, 1)\n",
    "\n",
    "print(inputs_arreglados)\n",
    "print(inputs_arreglados.shape)\n",
    "\n",
    "X_test_artificial = [] #crea un array vacio\n",
    "\n",
    "\n",
    "for i in range(120, 8780): #toma los ultimos 120 dias del 2016 8780    \n",
    "    predicted_weather_temp_artificial = regressor.predict(inputs_arreglados)\n",
    "    inputs_arreglados = np.append(inputs_arreglados, predicted_weather_temp_artificial)    \n",
    "    X_test_artificial.append(inputs)\n",
    "\n",
    "#print(inputs_arreglados)\n",
    "#print(inputs_arreglados.shape)\n",
    "\n",
    "#predicted_weather_temp = regressor.predict(X_test)\n",
    "#predicted_weather_temp = sc.inverse_transform(predicted_weather_temp)"
   ]
  },
  {
   "cell_type": "code",
   "execution_count": null,
   "metadata": {},
   "outputs": [
    {
     "name": "stdout",
     "output_type": "stream",
     "text": [
      "(50,)\n",
      "(50, 1)\n",
      "(50, 1)\n",
      "(50, 1)\n"
     ]
    },
    {
     "data": {
      "image/png": "[encoded data removed]",
      "text/plain": [
       "<Figure size 640x480 with 1 Axes>"
      ]
     },
     "metadata": {},
     "output_type": "display_data"
    },
    {
     "ename": "IndexError",
     "evalue": "index 50 is out of bounds for axis 0 with size 50",
     "output_type": "error",
     "traceback": [
      "\u001b[0;31m---------------------------------------------------------------------------\u001b[0m",
      "\u001b[0;31mIndexError\u001b[0m                                Traceback (most recent call last)",
      "\u001b[1;32m/home/mikel/Documents/Facultad/IA/tp-2/Tp-RNN.ipynb Cell 11\u001b[0m line \u001b[0;36m1\n\u001b[1;32m     <a href='vscode-notebook-cell:/home/mikel/Documents/Facultad/IA/tp-2/Tp-RNN.ipynb#X13sZmlsZQ%3D%3D?line=15'>16</a>\u001b[0m plt\u001b[39m.\u001b[39mlegend()\n\u001b[1;32m     <a href='vscode-notebook-cell:/home/mikel/Documents/Facultad/IA/tp-2/Tp-RNN.ipynb#X13sZmlsZQ%3D%3D?line=16'>17</a>\u001b[0m plt\u001b[39m.\u001b[39mshow()\n\u001b[0;32m---> <a href='vscode-notebook-cell:/home/mikel/Documents/Facultad/IA/tp-2/Tp-RNN.ipynb#X13sZmlsZQ%3D%3D?line=18'>19</a>\u001b[0m \u001b[39mprint\u001b[39m(real_weather_temp[\u001b[39m50\u001b[39;49m])\n\u001b[1;32m     <a href='vscode-notebook-cell:/home/mikel/Documents/Facultad/IA/tp-2/Tp-RNN.ipynb#X13sZmlsZQ%3D%3D?line=19'>20</a>\u001b[0m \u001b[39mprint\u001b[39m(predicted_weather_temp[\u001b[39m50\u001b[39m])\n",
      "\u001b[0;31mIndexError\u001b[0m: index 50 is out of bounds for axis 0 with size 50"
     ]
    }
   ],
   "source": [
    "xgrafico = np.arange(0, horas_a_predecir, 1)\n",
    "print(xgrafico.shape)\n",
    "print(real_weather_temp.shape)\n",
    "real_weather_temp = real_weather_temp[:horas_a_predecir]\n",
    "print(real_weather_temp.shape)\n",
    "print(predicted_weather_temp.shape)\n",
    "\n",
    "plt.plot(real_weather_temp, color = 'red', label = 'Real weather temperatura')\n",
    "plt.plot(predicted_weather_temp, color = 'blue', label = 'Predicted weather temperatura')\n",
    "#plt.figure(figsize=(20,100))\n",
    "#plt.scatter(xgrafico,real_weather_temp, color = 'red', label = 'Real weather temperatura',s=1)\n",
    "#plt.scatter(xgrafico,predicted_weather_temp, color = 'blue', label = 'Predicted weather temperatura',s=1)\n",
    "plt.title('Real temperatura vs Temperatura predecida cantidad de epocas:'+str(epocas) ) \n",
    "plt.xlabel('Time')\n",
    "plt.ylabel('Temperatura')\n",
    "plt.legend()\n",
    "plt.show()\n",
    "\n",
    "print(real_weather_temp[50])\n",
    "print(predicted_weather_temp[50])\n"
   ]
  }
 ],
 "metadata": {
  "kernelspec": {
   "display_name": "IA",
   "language": "python",
   "name": "python3"
  },
  "language_info": {
   "codemirror_mode": {
    "name": "ipython",
    "version": 3
   },
   "file_extension": ".py",
   "mimetype": "text/x-python",
   "name": "python",
   "nbconvert_exporter": "python",
   "pygments_lexer": "ipython3",
   "version": "3.10.12"
  }
 },
 "nbformat": 4,
 "nbformat_minor": 2
}
